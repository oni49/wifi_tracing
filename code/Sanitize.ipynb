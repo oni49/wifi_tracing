{
 "cells": [
  {
   "cell_type": "markdown",
   "metadata": {},
   "source": [
    "Import necessary libararies; DO NOT MODIFY"
   ]
  },
  {
   "cell_type": "code",
   "execution_count": 1,
   "metadata": {},
   "outputs": [],
   "source": [
    "import pandas as pd\n",
    "import hashlib"
   ]
  },
  {
   "cell_type": "markdown",
   "metadata": {},
   "source": [
    "# Configuration\n",
    "Change the values of these variables in order to configure this notebook to properly sanitize your wifi data. This script expects that your column labels will include the labels \"SSID\" and \"MAC\" in all caps. If your data does not contain these columns labeled in this manner, you will have to modify the code further down below. \n",
    "\n",
    "- `filename` - string describing the full path or relative path to your input data\n",
    "- `columns_labeled` - boolean describing if your file already contains header values for your table\n",
    "- `colum_lables` - list of strings with your column labels, if you data already contains headers set this to an empty list\n",
    "- `key_file` - string describing the full or relative path to your file containing your salt value. Make sure this file does not get uploaded to your public Git repositories\n",
    "- `output_name` - string describing the path and file name you'd like this script to output to"
   ]
  },
  {
   "cell_type": "code",
   "execution_count": 6,
   "metadata": {},
   "outputs": [],
   "source": [
    "filename = \"../../wap-20190612.log\" #insert the full path here\n",
    "columns_labeled = False\n",
    "#make sure these are all caps, must include labels \"SSID\" and \"MAC\"\n",
    "column_labels = ['MAC', 'SSID', 'RSSI', 'CHANNEL', 'SENSOR', 'EPOCH']\n",
    "key_file = \"../../key_file.txt\"\n",
    "output_name = 'clean_wap_log_20190612.csv'"
   ]
  },
  {
   "cell_type": "markdown",
   "metadata": {},
   "source": [
    "# Data Loading\n",
    "The following three cells will\n",
    "- Load your secret key from a file\n",
    "- Load the OUI data\n",
    "- Load the WiFi data provided"
   ]
  },
  {
   "cell_type": "code",
   "execution_count": 7,
   "metadata": {},
   "outputs": [],
   "source": [
    "secret_key = open(key_file, 'r').read()"
   ]
  },
  {
   "cell_type": "code",
   "execution_count": 8,
   "metadata": {
    "scrolled": false
   },
   "outputs": [],
   "source": [
    "oui_df = pd.read_csv('../data/oui.txt', header=None, names=['OUI','CO', 'COMPANY'], sep='\\t')\n",
    "oui_dict = { oui:company for oui,company in zip(oui_df.OUI, oui_df.CO)}"
   ]
  },
  {
   "cell_type": "code",
   "execution_count": 9,
   "metadata": {},
   "outputs": [
    {
     "data": {
      "text/html": [
       "<div>\n",
       "<style scoped>\n",
       "    .dataframe tbody tr th:only-of-type {\n",
       "        vertical-align: middle;\n",
       "    }\n",
       "\n",
       "    .dataframe tbody tr th {\n",
       "        vertical-align: top;\n",
       "    }\n",
       "\n",
       "    .dataframe thead th {\n",
       "        text-align: right;\n",
       "    }\n",
       "</style>\n",
       "<table border=\"1\" class=\"dataframe\">\n",
       "  <thead>\n",
       "    <tr style=\"text-align: right;\">\n",
       "      <th></th>\n",
       "      <th>MAC</th>\n",
       "      <th>SSID</th>\n",
       "      <th>RSSI</th>\n",
       "      <th>CHANNEL</th>\n",
       "      <th>SENSOR</th>\n",
       "      <th>EPOCH</th>\n",
       "    </tr>\n",
       "  </thead>\n",
       "  <tbody>\n",
       "    <tr>\n",
       "      <th>0</th>\n",
       "      <td>b0:b9:8a:cf:d8:28</td>\n",
       "      <td>NETGEAR36</td>\n",
       "      <td>0</td>\n",
       "      <td>1</td>\n",
       "      <td>Pi3B</td>\n",
       "      <td>1.559696e+09</td>\n",
       "    </tr>\n",
       "    <tr>\n",
       "      <th>1</th>\n",
       "      <td>4c:01:43:0a:09:e5</td>\n",
       "      <td>NaN</td>\n",
       "      <td>0</td>\n",
       "      <td>1</td>\n",
       "      <td>Pi3B</td>\n",
       "      <td>1.559696e+09</td>\n",
       "    </tr>\n",
       "    <tr>\n",
       "      <th>2</th>\n",
       "      <td>94:8f:cf:0c:97:50</td>\n",
       "      <td>ATTXVFJQXi</td>\n",
       "      <td>0</td>\n",
       "      <td>1</td>\n",
       "      <td>Pi3B</td>\n",
       "      <td>1.559696e+09</td>\n",
       "    </tr>\n",
       "    <tr>\n",
       "      <th>3</th>\n",
       "      <td>0c:ea:c9:a8:6e:b0</td>\n",
       "      <td>ATTsBATbaa</td>\n",
       "      <td>0</td>\n",
       "      <td>1</td>\n",
       "      <td>Pi3B</td>\n",
       "      <td>1.559696e+09</td>\n",
       "    </tr>\n",
       "    <tr>\n",
       "      <th>4</th>\n",
       "      <td>88:96:4e:4e:bb:70</td>\n",
       "      <td>ATTDPjigDS</td>\n",
       "      <td>0</td>\n",
       "      <td>1</td>\n",
       "      <td>Pi3B</td>\n",
       "      <td>1.559696e+09</td>\n",
       "    </tr>\n",
       "  </tbody>\n",
       "</table>\n",
       "</div>"
      ],
      "text/plain": [
       "                 MAC        SSID  RSSI  CHANNEL SENSOR         EPOCH\n",
       "0  b0:b9:8a:cf:d8:28   NETGEAR36     0        1   Pi3B  1.559696e+09\n",
       "1  4c:01:43:0a:09:e5         NaN     0        1   Pi3B  1.559696e+09\n",
       "2  94:8f:cf:0c:97:50  ATTXVFJQXi     0        1   Pi3B  1.559696e+09\n",
       "3  0c:ea:c9:a8:6e:b0  ATTsBATbaa     0        1   Pi3B  1.559696e+09\n",
       "4  88:96:4e:4e:bb:70  ATTDPjigDS     0        1   Pi3B  1.559696e+09"
      ]
     },
     "execution_count": 9,
     "metadata": {},
     "output_type": "execute_result"
    }
   ],
   "source": [
    "if columns_labeled and len(column_labels) > 0:\n",
    "    df = pd.read_csv(filename, float_precision='high')\n",
    "    df.columns=column_labels\n",
    "elif columns_labeled:\n",
    "    df = pd.read_csv(filename, float_precision='high')\n",
    "else:\n",
    "    df = pd.read_csv(filename, header=None, names=column_labels, float_precision='high')\n",
    "df.head()"
   ]
  },
  {
   "cell_type": "markdown",
   "metadata": {},
   "source": [
    "# Enrichment\n",
    "The following cell will enrich your data with\n",
    "- The OUI of the observed WAP\n",
    "- Company names based on the OUI\n",
    "- A unique hash allowing you to anonymize the data"
   ]
  },
  {
   "cell_type": "code",
   "execution_count": 10,
   "metadata": {},
   "outputs": [
    {
     "data": {
      "text/html": [
       "<div>\n",
       "<style scoped>\n",
       "    .dataframe tbody tr th:only-of-type {\n",
       "        vertical-align: middle;\n",
       "    }\n",
       "\n",
       "    .dataframe tbody tr th {\n",
       "        vertical-align: top;\n",
       "    }\n",
       "\n",
       "    .dataframe thead th {\n",
       "        text-align: right;\n",
       "    }\n",
       "</style>\n",
       "<table border=\"1\" class=\"dataframe\">\n",
       "  <thead>\n",
       "    <tr style=\"text-align: right;\">\n",
       "      <th></th>\n",
       "      <th>MAC</th>\n",
       "      <th>SSID</th>\n",
       "      <th>RSSI</th>\n",
       "      <th>CHANNEL</th>\n",
       "      <th>SENSOR</th>\n",
       "      <th>EPOCH</th>\n",
       "      <th>OUI</th>\n",
       "      <th>HASH</th>\n",
       "      <th>CO</th>\n",
       "    </tr>\n",
       "  </thead>\n",
       "  <tbody>\n",
       "    <tr>\n",
       "      <th>0</th>\n",
       "      <td>b0:b9:8a:cf:d8:28</td>\n",
       "      <td>NETGEAR36</td>\n",
       "      <td>0</td>\n",
       "      <td>1</td>\n",
       "      <td>Pi3B</td>\n",
       "      <td>1.559696e+09</td>\n",
       "      <td>B0:B9:8A</td>\n",
       "      <td>0af6b9c7ccb0ca7105303b3cad7ec22f</td>\n",
       "      <td>Netgear</td>\n",
       "    </tr>\n",
       "    <tr>\n",
       "      <th>1</th>\n",
       "      <td>4c:01:43:0a:09:e5</td>\n",
       "      <td>NaN</td>\n",
       "      <td>0</td>\n",
       "      <td>1</td>\n",
       "      <td>Pi3B</td>\n",
       "      <td>1.559696e+09</td>\n",
       "      <td>4C:01:43</td>\n",
       "      <td>172b5824dbe65036406783398672bf7a</td>\n",
       "      <td>Eero</td>\n",
       "    </tr>\n",
       "    <tr>\n",
       "      <th>2</th>\n",
       "      <td>94:8f:cf:0c:97:50</td>\n",
       "      <td>ATTXVFJQXi</td>\n",
       "      <td>0</td>\n",
       "      <td>1</td>\n",
       "      <td>Pi3B</td>\n",
       "      <td>1.559696e+09</td>\n",
       "      <td>94:8F:CF</td>\n",
       "      <td>ac31484895c5705d38fc292605778dbc</td>\n",
       "      <td>ArrisGro</td>\n",
       "    </tr>\n",
       "    <tr>\n",
       "      <th>3</th>\n",
       "      <td>0c:ea:c9:a8:6e:b0</td>\n",
       "      <td>ATTsBATbaa</td>\n",
       "      <td>0</td>\n",
       "      <td>1</td>\n",
       "      <td>Pi3B</td>\n",
       "      <td>1.559696e+09</td>\n",
       "      <td>0C:EA:C9</td>\n",
       "      <td>eab56c71ae77fae1653f486aa3b3a93b</td>\n",
       "      <td>ArrisGro</td>\n",
       "    </tr>\n",
       "    <tr>\n",
       "      <th>4</th>\n",
       "      <td>88:96:4e:4e:bb:70</td>\n",
       "      <td>ATTDPjigDS</td>\n",
       "      <td>0</td>\n",
       "      <td>1</td>\n",
       "      <td>Pi3B</td>\n",
       "      <td>1.559696e+09</td>\n",
       "      <td>88:96:4E</td>\n",
       "      <td>f4b963655e9bf59f89dcc09396468861</td>\n",
       "      <td>ArrisGro</td>\n",
       "    </tr>\n",
       "  </tbody>\n",
       "</table>\n",
       "</div>"
      ],
      "text/plain": [
       "                 MAC        SSID  RSSI  CHANNEL SENSOR         EPOCH  \\\n",
       "0  b0:b9:8a:cf:d8:28   NETGEAR36     0        1   Pi3B  1.559696e+09   \n",
       "1  4c:01:43:0a:09:e5         NaN     0        1   Pi3B  1.559696e+09   \n",
       "2  94:8f:cf:0c:97:50  ATTXVFJQXi     0        1   Pi3B  1.559696e+09   \n",
       "3  0c:ea:c9:a8:6e:b0  ATTsBATbaa     0        1   Pi3B  1.559696e+09   \n",
       "4  88:96:4e:4e:bb:70  ATTDPjigDS     0        1   Pi3B  1.559696e+09   \n",
       "\n",
       "        OUI                              HASH        CO  \n",
       "0  B0:B9:8A  0af6b9c7ccb0ca7105303b3cad7ec22f   Netgear  \n",
       "1  4C:01:43  172b5824dbe65036406783398672bf7a      Eero  \n",
       "2  94:8F:CF  ac31484895c5705d38fc292605778dbc  ArrisGro  \n",
       "3  0C:EA:C9  eab56c71ae77fae1653f486aa3b3a93b  ArrisGro  \n",
       "4  88:96:4E  f4b963655e9bf59f89dcc09396468861  ArrisGro  "
      ]
     },
     "execution_count": 10,
     "metadata": {},
     "output_type": "execute_result"
    }
   ],
   "source": [
    "df['OUI'] = [':'.join(mac.split(':')[0:3]).upper() for mac in df[\"MAC\"]]\n",
    "#m = hashlib.md5(b'18:9c:27:21:35:b0').hexdigest()\n",
    "df['HASH'] = [hashlib.md5((mac+str(ssid)+secret_key).encode('UTF-8')).hexdigest() for mac,ssid in zip(df.MAC, df.SSID)]\n",
    "df['CO'] = [oui_dict[oui] if oui in oui_dict.keys() else 'UNKNOWN' for oui in df['OUI']]\n",
    "df.head()"
   ]
  },
  {
   "cell_type": "markdown",
   "metadata": {},
   "source": [
    "# Clean and Output\n",
    "The next two cells will drop the individually identifying data and output the cleaned dataframe to your output file"
   ]
  },
  {
   "cell_type": "code",
   "execution_count": 11,
   "metadata": {},
   "outputs": [
    {
     "data": {
      "text/html": [
       "<div>\n",
       "<style scoped>\n",
       "    .dataframe tbody tr th:only-of-type {\n",
       "        vertical-align: middle;\n",
       "    }\n",
       "\n",
       "    .dataframe tbody tr th {\n",
       "        vertical-align: top;\n",
       "    }\n",
       "\n",
       "    .dataframe thead th {\n",
       "        text-align: right;\n",
       "    }\n",
       "</style>\n",
       "<table border=\"1\" class=\"dataframe\">\n",
       "  <thead>\n",
       "    <tr style=\"text-align: right;\">\n",
       "      <th></th>\n",
       "      <th>RSSI</th>\n",
       "      <th>CHANNEL</th>\n",
       "      <th>SENSOR</th>\n",
       "      <th>EPOCH</th>\n",
       "      <th>OUI</th>\n",
       "      <th>HASH</th>\n",
       "      <th>CO</th>\n",
       "    </tr>\n",
       "  </thead>\n",
       "  <tbody>\n",
       "    <tr>\n",
       "      <th>0</th>\n",
       "      <td>0</td>\n",
       "      <td>1</td>\n",
       "      <td>Pi3B</td>\n",
       "      <td>1.559696e+09</td>\n",
       "      <td>B0:B9:8A</td>\n",
       "      <td>0af6b9c7ccb0ca7105303b3cad7ec22f</td>\n",
       "      <td>Netgear</td>\n",
       "    </tr>\n",
       "    <tr>\n",
       "      <th>1</th>\n",
       "      <td>0</td>\n",
       "      <td>1</td>\n",
       "      <td>Pi3B</td>\n",
       "      <td>1.559696e+09</td>\n",
       "      <td>4C:01:43</td>\n",
       "      <td>172b5824dbe65036406783398672bf7a</td>\n",
       "      <td>Eero</td>\n",
       "    </tr>\n",
       "    <tr>\n",
       "      <th>2</th>\n",
       "      <td>0</td>\n",
       "      <td>1</td>\n",
       "      <td>Pi3B</td>\n",
       "      <td>1.559696e+09</td>\n",
       "      <td>94:8F:CF</td>\n",
       "      <td>ac31484895c5705d38fc292605778dbc</td>\n",
       "      <td>ArrisGro</td>\n",
       "    </tr>\n",
       "    <tr>\n",
       "      <th>3</th>\n",
       "      <td>0</td>\n",
       "      <td>1</td>\n",
       "      <td>Pi3B</td>\n",
       "      <td>1.559696e+09</td>\n",
       "      <td>0C:EA:C9</td>\n",
       "      <td>eab56c71ae77fae1653f486aa3b3a93b</td>\n",
       "      <td>ArrisGro</td>\n",
       "    </tr>\n",
       "    <tr>\n",
       "      <th>4</th>\n",
       "      <td>0</td>\n",
       "      <td>1</td>\n",
       "      <td>Pi3B</td>\n",
       "      <td>1.559696e+09</td>\n",
       "      <td>88:96:4E</td>\n",
       "      <td>f4b963655e9bf59f89dcc09396468861</td>\n",
       "      <td>ArrisGro</td>\n",
       "    </tr>\n",
       "  </tbody>\n",
       "</table>\n",
       "</div>"
      ],
      "text/plain": [
       "   RSSI  CHANNEL SENSOR         EPOCH       OUI  \\\n",
       "0     0        1   Pi3B  1.559696e+09  B0:B9:8A   \n",
       "1     0        1   Pi3B  1.559696e+09  4C:01:43   \n",
       "2     0        1   Pi3B  1.559696e+09  94:8F:CF   \n",
       "3     0        1   Pi3B  1.559696e+09  0C:EA:C9   \n",
       "4     0        1   Pi3B  1.559696e+09  88:96:4E   \n",
       "\n",
       "                               HASH        CO  \n",
       "0  0af6b9c7ccb0ca7105303b3cad7ec22f   Netgear  \n",
       "1  172b5824dbe65036406783398672bf7a      Eero  \n",
       "2  ac31484895c5705d38fc292605778dbc  ArrisGro  \n",
       "3  eab56c71ae77fae1653f486aa3b3a93b  ArrisGro  \n",
       "4  f4b963655e9bf59f89dcc09396468861  ArrisGro  "
      ]
     },
     "execution_count": 11,
     "metadata": {},
     "output_type": "execute_result"
    }
   ],
   "source": [
    "clean = df.drop(columns=['MAC','SSID'])\n",
    "clean.head()"
   ]
  },
  {
   "cell_type": "code",
   "execution_count": 12,
   "metadata": {},
   "outputs": [],
   "source": [
    "clean.to_csv(\"../data/\"+output_name)"
   ]
  },
  {
   "cell_type": "code",
   "execution_count": 13,
   "metadata": {},
   "outputs": [],
   "source": [
    "df.to_csv(\"../../wap_20190612_full.csv\")"
   ]
  },
  {
   "cell_type": "code",
   "execution_count": null,
   "metadata": {},
   "outputs": [],
   "source": []
  }
 ],
 "metadata": {
  "kernelspec": {
   "display_name": "Python 3",
   "language": "python",
   "name": "python3"
  },
  "language_info": {
   "codemirror_mode": {
    "name": "ipython",
    "version": 3
   },
   "file_extension": ".py",
   "mimetype": "text/x-python",
   "name": "python",
   "nbconvert_exporter": "python",
   "pygments_lexer": "ipython3",
   "version": "3.7.1"
  }
 },
 "nbformat": 4,
 "nbformat_minor": 2
}
