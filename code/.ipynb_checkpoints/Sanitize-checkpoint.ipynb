{
 "cells": [
  {
   "cell_type": "markdown",
   "metadata": {},
   "source": [
    "Import necessary libararies; DO NOT MODIFY"
   ]
  },
  {
   "cell_type": "code",
   "execution_count": 1,
   "metadata": {},
   "outputs": [],
   "source": [
    "import pandas as pd\n",
    "import hashlib"
   ]
  },
  {
   "cell_type": "markdown",
   "metadata": {},
   "source": [
    "# Configuration\n",
    "Change the values of these variables in order to configure this notebook to properly sanitize your wifi data. This script expects that your column labels will include the labels \"SSID\" and \"MAC\" in all caps. If your data does not contain these columns labeled in this manner, you will have to modify the code further down below. \n",
    "\n",
    "- `filename` - string describing the full path or relative path to your input data\n",
    "- `columns_labeled` - boolean describing if your file already contains header values for your table\n",
    "- `colum_lables` - list of strings with your column labels, if you data already contains headers set this to an empty list\n",
    "- `key_file` - string describing the full or relative path to your file containing your salt value. Make sure this file does not get uploaded to your public Git repositories\n",
    "- `output_name` - string describing the path and file name you'd like this script to output to"
   ]
  },
  {
   "cell_type": "code",
   "execution_count": 2,
   "metadata": {},
   "outputs": [],
   "source": [
    "filename = \"../../wap-20190612.log\" #insert the full path here\n",
    "columns_labeled = False\n",
    "#make sure these are all caps, must include labels \"SSID\" and \"MAC\"\n",
    "column_labels = ['MAC', 'SSID', 'RSSI', 'SENSOR', 'EPOCH']\n",
    "key_file = \"../..key_file.txt\"\n",
    "output_name = 'Clean_wap_log_20190612.csv'"
   ]
  },
  {
   "cell_type": "markdown",
   "metadata": {},
   "source": [
    "# Data Loading\n",
    "The following three cells will\n",
    "- Load your secret key from a file\n",
    "- Load the OUI data\n",
    "- Load the WiFi data provided"
   ]
  },
  {
   "cell_type": "code",
   "execution_count": 3,
   "metadata": {},
   "outputs": [],
   "source": [
    "secret_key = open(\"key_file.txt\", 'r').read()"
   ]
  },
  {
   "cell_type": "code",
   "execution_count": 4,
   "metadata": {
    "scrolled": false
   },
   "outputs": [],
   "source": [
    "oui_df = pd.read_csv('oui.txt', header=None, names=['OUI','CO', 'COMPANY'], sep='\\t')\n",
    "oui_dict = { oui:company for oui,company in zip(oui_df.OUI, oui_df.CO)}"
   ]
  },
  {
   "cell_type": "code",
   "execution_count": 5,
   "metadata": {},
   "outputs": [
    {
     "data": {
      "text/html": [
       "<div>\n",
       "<style scoped>\n",
       "    .dataframe tbody tr th:only-of-type {\n",
       "        vertical-align: middle;\n",
       "    }\n",
       "\n",
       "    .dataframe tbody tr th {\n",
       "        vertical-align: top;\n",
       "    }\n",
       "\n",
       "    .dataframe thead th {\n",
       "        text-align: right;\n",
       "    }\n",
       "</style>\n",
       "<table border=\"1\" class=\"dataframe\">\n",
       "  <thead>\n",
       "    <tr style=\"text-align: right;\">\n",
       "      <th></th>\n",
       "      <th>MAC</th>\n",
       "      <th>SSID</th>\n",
       "      <th>RSSI</th>\n",
       "      <th>SENSOR</th>\n",
       "      <th>EPOCH</th>\n",
       "    </tr>\n",
       "  </thead>\n",
       "  <tbody>\n",
       "    <tr>\n",
       "      <th>0</th>\n",
       "      <td>18:9c:27:21:35:b0</td>\n",
       "      <td>ATTVe2ik8s</td>\n",
       "      <td>0</td>\n",
       "      <td>Pi3B</td>\n",
       "      <td>1.548809e+09</td>\n",
       "    </tr>\n",
       "    <tr>\n",
       "      <th>1</th>\n",
       "      <td>88:96:4e:16:36:20</td>\n",
       "      <td>Homeweefee</td>\n",
       "      <td>0</td>\n",
       "      <td>Pi3B</td>\n",
       "      <td>1.548809e+09</td>\n",
       "    </tr>\n",
       "    <tr>\n",
       "      <th>2</th>\n",
       "      <td>5c:8f:e0:e4:a1:e7</td>\n",
       "      <td>ARRIS-A1E9</td>\n",
       "      <td>0</td>\n",
       "      <td>Pi3B</td>\n",
       "      <td>1.548809e+09</td>\n",
       "    </tr>\n",
       "    <tr>\n",
       "      <th>3</th>\n",
       "      <td>18:9c:27:1b:b2:e0</td>\n",
       "      <td>Telepathy</td>\n",
       "      <td>0</td>\n",
       "      <td>Pi3B</td>\n",
       "      <td>1.548809e+09</td>\n",
       "    </tr>\n",
       "    <tr>\n",
       "      <th>4</th>\n",
       "      <td>1a:9c:27:1b:b2:e1</td>\n",
       "      <td>Telepathy_Guest</td>\n",
       "      <td>0</td>\n",
       "      <td>Pi3B</td>\n",
       "      <td>1.548809e+09</td>\n",
       "    </tr>\n",
       "  </tbody>\n",
       "</table>\n",
       "</div>"
      ],
      "text/plain": [
       "                 MAC             SSID  RSSI SENSOR         EPOCH\n",
       "0  18:9c:27:21:35:b0       ATTVe2ik8s     0   Pi3B  1.548809e+09\n",
       "1  88:96:4e:16:36:20       Homeweefee     0   Pi3B  1.548809e+09\n",
       "2  5c:8f:e0:e4:a1:e7       ARRIS-A1E9     0   Pi3B  1.548809e+09\n",
       "3  18:9c:27:1b:b2:e0        Telepathy     0   Pi3B  1.548809e+09\n",
       "4  1a:9c:27:1b:b2:e1  Telepathy_Guest     0   Pi3B  1.548809e+09"
      ]
     },
     "execution_count": 5,
     "metadata": {},
     "output_type": "execute_result"
    }
   ],
   "source": [
    "if columns_labeled and len(column_labels) > 0:\n",
    "    df = pd.read_csv(filename, float_precision='high')\n",
    "    df.columns=column_labels\n",
    "elif columns_labeled:\n",
    "    df = pd.read_csv(filename, float_precision='high')\n",
    "else:\n",
    "    df = pd.read_csv(filename, header=None, names=column_labels, float_precision='high')\n",
    "df.head()"
   ]
  },
  {
   "cell_type": "markdown",
   "metadata": {},
   "source": [
    "# Enrichment\n",
    "The following cell will enrich your data with\n",
    "- The OUI of the observed WAP\n",
    "- Company names based on the OUI\n",
    "- A unique hash allowing you to anonymize the data"
   ]
  },
  {
   "cell_type": "code",
   "execution_count": 6,
   "metadata": {},
   "outputs": [
    {
     "data": {
      "text/html": [
       "<div>\n",
       "<style scoped>\n",
       "    .dataframe tbody tr th:only-of-type {\n",
       "        vertical-align: middle;\n",
       "    }\n",
       "\n",
       "    .dataframe tbody tr th {\n",
       "        vertical-align: top;\n",
       "    }\n",
       "\n",
       "    .dataframe thead th {\n",
       "        text-align: right;\n",
       "    }\n",
       "</style>\n",
       "<table border=\"1\" class=\"dataframe\">\n",
       "  <thead>\n",
       "    <tr style=\"text-align: right;\">\n",
       "      <th></th>\n",
       "      <th>MAC</th>\n",
       "      <th>SSID</th>\n",
       "      <th>RSSI</th>\n",
       "      <th>SENSOR</th>\n",
       "      <th>EPOCH</th>\n",
       "      <th>OUI</th>\n",
       "      <th>HASH</th>\n",
       "      <th>CO</th>\n",
       "    </tr>\n",
       "  </thead>\n",
       "  <tbody>\n",
       "    <tr>\n",
       "      <th>0</th>\n",
       "      <td>18:9c:27:21:35:b0</td>\n",
       "      <td>ATTVe2ik8s</td>\n",
       "      <td>0</td>\n",
       "      <td>Pi3B</td>\n",
       "      <td>1.548809e+09</td>\n",
       "      <td>18:9C:27</td>\n",
       "      <td>10e0b7b64681bc18a68f0a0125851742</td>\n",
       "      <td>ArrisGro</td>\n",
       "    </tr>\n",
       "    <tr>\n",
       "      <th>1</th>\n",
       "      <td>88:96:4e:16:36:20</td>\n",
       "      <td>Homeweefee</td>\n",
       "      <td>0</td>\n",
       "      <td>Pi3B</td>\n",
       "      <td>1.548809e+09</td>\n",
       "      <td>88:96:4E</td>\n",
       "      <td>786f93b074218a4a6e124e3380288cb4</td>\n",
       "      <td>ArrisGro</td>\n",
       "    </tr>\n",
       "    <tr>\n",
       "      <th>2</th>\n",
       "      <td>5c:8f:e0:e4:a1:e7</td>\n",
       "      <td>ARRIS-A1E9</td>\n",
       "      <td>0</td>\n",
       "      <td>Pi3B</td>\n",
       "      <td>1.548809e+09</td>\n",
       "      <td>5C:8F:E0</td>\n",
       "      <td>2d58738742f4b274aa5d7fb7d02aec47</td>\n",
       "      <td>ArrisGro</td>\n",
       "    </tr>\n",
       "    <tr>\n",
       "      <th>3</th>\n",
       "      <td>18:9c:27:1b:b2:e0</td>\n",
       "      <td>Telepathy</td>\n",
       "      <td>0</td>\n",
       "      <td>Pi3B</td>\n",
       "      <td>1.548809e+09</td>\n",
       "      <td>18:9C:27</td>\n",
       "      <td>6c74d081cfd44519d4778dc068a2af6a</td>\n",
       "      <td>ArrisGro</td>\n",
       "    </tr>\n",
       "    <tr>\n",
       "      <th>4</th>\n",
       "      <td>1a:9c:27:1b:b2:e1</td>\n",
       "      <td>Telepathy_Guest</td>\n",
       "      <td>0</td>\n",
       "      <td>Pi3B</td>\n",
       "      <td>1.548809e+09</td>\n",
       "      <td>1A:9C:27</td>\n",
       "      <td>c100a59f765a42a2a77182e578a429e7</td>\n",
       "      <td>UNKNOWN</td>\n",
       "    </tr>\n",
       "  </tbody>\n",
       "</table>\n",
       "</div>"
      ],
      "text/plain": [
       "                 MAC             SSID  RSSI SENSOR         EPOCH       OUI  \\\n",
       "0  18:9c:27:21:35:b0       ATTVe2ik8s     0   Pi3B  1.548809e+09  18:9C:27   \n",
       "1  88:96:4e:16:36:20       Homeweefee     0   Pi3B  1.548809e+09  88:96:4E   \n",
       "2  5c:8f:e0:e4:a1:e7       ARRIS-A1E9     0   Pi3B  1.548809e+09  5C:8F:E0   \n",
       "3  18:9c:27:1b:b2:e0        Telepathy     0   Pi3B  1.548809e+09  18:9C:27   \n",
       "4  1a:9c:27:1b:b2:e1  Telepathy_Guest     0   Pi3B  1.548809e+09  1A:9C:27   \n",
       "\n",
       "                               HASH        CO  \n",
       "0  10e0b7b64681bc18a68f0a0125851742  ArrisGro  \n",
       "1  786f93b074218a4a6e124e3380288cb4  ArrisGro  \n",
       "2  2d58738742f4b274aa5d7fb7d02aec47  ArrisGro  \n",
       "3  6c74d081cfd44519d4778dc068a2af6a  ArrisGro  \n",
       "4  c100a59f765a42a2a77182e578a429e7   UNKNOWN  "
      ]
     },
     "execution_count": 6,
     "metadata": {},
     "output_type": "execute_result"
    }
   ],
   "source": [
    "df['OUI'] = [':'.join(mac.split(':')[0:3]).upper() for mac in df[\"MAC\"]]\n",
    "#m = hashlib.md5(b'18:9c:27:21:35:b0').hexdigest()\n",
    "df['HASH'] = [hashlib.md5((mac+str(ssid)+secret_key).encode('UTF-8')).hexdigest() for mac,ssid in zip(df.MAC, df.SSID)]\n",
    "df['CO'] = [oui_dict[oui] if oui in oui_dict.keys() else 'UNKNOWN' for oui in df['OUI']]\n",
    "df.head()"
   ]
  },
  {
   "cell_type": "markdown",
   "metadata": {},
   "source": [
    "# Clean and Output\n",
    "The next two cells will drop the individually identifying data and output the cleaned dataframe to your output file"
   ]
  },
  {
   "cell_type": "code",
   "execution_count": 7,
   "metadata": {},
   "outputs": [
    {
     "data": {
      "text/html": [
       "<div>\n",
       "<style scoped>\n",
       "    .dataframe tbody tr th:only-of-type {\n",
       "        vertical-align: middle;\n",
       "    }\n",
       "\n",
       "    .dataframe tbody tr th {\n",
       "        vertical-align: top;\n",
       "    }\n",
       "\n",
       "    .dataframe thead th {\n",
       "        text-align: right;\n",
       "    }\n",
       "</style>\n",
       "<table border=\"1\" class=\"dataframe\">\n",
       "  <thead>\n",
       "    <tr style=\"text-align: right;\">\n",
       "      <th></th>\n",
       "      <th>RSSI</th>\n",
       "      <th>SENSOR</th>\n",
       "      <th>EPOCH</th>\n",
       "      <th>OUI</th>\n",
       "      <th>HASH</th>\n",
       "      <th>CO</th>\n",
       "    </tr>\n",
       "  </thead>\n",
       "  <tbody>\n",
       "    <tr>\n",
       "      <th>0</th>\n",
       "      <td>0</td>\n",
       "      <td>Pi3B</td>\n",
       "      <td>1.548809e+09</td>\n",
       "      <td>18:9C:27</td>\n",
       "      <td>10e0b7b64681bc18a68f0a0125851742</td>\n",
       "      <td>ArrisGro</td>\n",
       "    </tr>\n",
       "    <tr>\n",
       "      <th>1</th>\n",
       "      <td>0</td>\n",
       "      <td>Pi3B</td>\n",
       "      <td>1.548809e+09</td>\n",
       "      <td>88:96:4E</td>\n",
       "      <td>786f93b074218a4a6e124e3380288cb4</td>\n",
       "      <td>ArrisGro</td>\n",
       "    </tr>\n",
       "    <tr>\n",
       "      <th>2</th>\n",
       "      <td>0</td>\n",
       "      <td>Pi3B</td>\n",
       "      <td>1.548809e+09</td>\n",
       "      <td>5C:8F:E0</td>\n",
       "      <td>2d58738742f4b274aa5d7fb7d02aec47</td>\n",
       "      <td>ArrisGro</td>\n",
       "    </tr>\n",
       "    <tr>\n",
       "      <th>3</th>\n",
       "      <td>0</td>\n",
       "      <td>Pi3B</td>\n",
       "      <td>1.548809e+09</td>\n",
       "      <td>18:9C:27</td>\n",
       "      <td>6c74d081cfd44519d4778dc068a2af6a</td>\n",
       "      <td>ArrisGro</td>\n",
       "    </tr>\n",
       "    <tr>\n",
       "      <th>4</th>\n",
       "      <td>0</td>\n",
       "      <td>Pi3B</td>\n",
       "      <td>1.548809e+09</td>\n",
       "      <td>1A:9C:27</td>\n",
       "      <td>c100a59f765a42a2a77182e578a429e7</td>\n",
       "      <td>UNKNOWN</td>\n",
       "    </tr>\n",
       "  </tbody>\n",
       "</table>\n",
       "</div>"
      ],
      "text/plain": [
       "   RSSI SENSOR         EPOCH       OUI                              HASH  \\\n",
       "0     0   Pi3B  1.548809e+09  18:9C:27  10e0b7b64681bc18a68f0a0125851742   \n",
       "1     0   Pi3B  1.548809e+09  88:96:4E  786f93b074218a4a6e124e3380288cb4   \n",
       "2     0   Pi3B  1.548809e+09  5C:8F:E0  2d58738742f4b274aa5d7fb7d02aec47   \n",
       "3     0   Pi3B  1.548809e+09  18:9C:27  6c74d081cfd44519d4778dc068a2af6a   \n",
       "4     0   Pi3B  1.548809e+09  1A:9C:27  c100a59f765a42a2a77182e578a429e7   \n",
       "\n",
       "         CO  \n",
       "0  ArrisGro  \n",
       "1  ArrisGro  \n",
       "2  ArrisGro  \n",
       "3  ArrisGro  \n",
       "4   UNKNOWN  "
      ]
     },
     "execution_count": 7,
     "metadata": {},
     "output_type": "execute_result"
    }
   ],
   "source": [
    "clean = df.drop(columns=['MAC','SSID'])\n",
    "clean.head()"
   ]
  },
  {
   "cell_type": "code",
   "execution_count": 8,
   "metadata": {},
   "outputs": [],
   "source": [
    "clean.to_csv(output_name)"
   ]
  },
  {
   "cell_type": "code",
   "execution_count": 9,
   "metadata": {},
   "outputs": [],
   "source": [
    "df.to_csv(\"wap_20190612_full.csv\")"
   ]
  },
  {
   "cell_type": "code",
   "execution_count": null,
   "metadata": {},
   "outputs": [],
   "source": []
  }
 ],
 "metadata": {
  "kernelspec": {
   "display_name": "Python 3",
   "language": "python",
   "name": "python3"
  },
  "language_info": {
   "codemirror_mode": {
    "name": "ipython",
    "version": 3
   },
   "file_extension": ".py",
   "mimetype": "text/x-python",
   "name": "python",
   "nbconvert_exporter": "python",
   "pygments_lexer": "ipython3",
   "version": "3.7.1"
  }
 },
 "nbformat": 4,
 "nbformat_minor": 2
}
